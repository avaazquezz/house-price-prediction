{
 "cells": [
  {
   "cell_type": "markdown",
   "id": "6938b3d5",
   "metadata": {},
   "source": [
    "# Exploratory Data Analysis (EDA)\n",
    "\n",
    "In this notebook, we will perform an exploratory data analysis (EDA) on the dataset. The steps include:\n",
    "\n",
    "1. Viewing the first few rows, dataset information, and summary statistics.\n",
    "2. Visualizing correlations using a heatmap.\n",
    "3. Creating scatterplots to explore relationships between variables."
   ]
  },
  {
   "cell_type": "code",
   "execution_count": null,
   "id": "8195c18d",
   "metadata": {},
   "outputs": [],
   "source": [
    "# Import necessary libraries\n",
    "import pandas as pd\n",
    "import seaborn as sns\n",
    "import matplotlib.pyplot as plt\n",
    "\n",
    "# Load the dataset\n",
    "data = pd.read_csv('../data/raw/housing.csv')\n",
    "\n",
    "# Display the first few rows of the dataset\n",
    "data.head()"
   ]
  },
  {
   "cell_type": "code",
   "execution_count": null,
   "id": "c3acac2e",
   "metadata": {},
   "outputs": [],
   "source": [
    "# Display dataset information\n",
    "data.info()"
   ]
  },
  {
   "cell_type": "code",
   "execution_count": null,
   "id": "44b5cb1e",
   "metadata": {},
   "outputs": [],
   "source": [
    "# Display summary statistics\n",
    "data.describe()"
   ]
  },
  {
   "cell_type": "code",
   "execution_count": null,
   "id": "608dddc9",
   "metadata": {},
   "outputs": [],
   "source": [
    "# Generate a correlation heatmap\n",
    "plt.figure(figsize=(10, 8))\n",
    "sns.heatmap(data.corr(), annot=True, cmap='coolwarm')\n",
    "plt.title('Correlation Heatmap')\n",
    "plt.show()"
   ]
  },
  {
   "cell_type": "code",
   "execution_count": null,
   "id": "89da7037",
   "metadata": {},
   "outputs": [],
   "source": [
    "# Create scatterplots for selected variable pairs\n",
    "sns.pairplot(data, vars=['Variable1', 'Variable2', 'Variable3'], diag_kind='kde')\n",
    "plt.show()"
   ]
  }
 ],
 "metadata": {
  "language_info": {
   "name": "python"
  }
 },
 "nbformat": 4,
 "nbformat_minor": 5
}
